{
  "nbformat": 4,
  "nbformat_minor": 0,
  "metadata": {
    "colab": {
      "provenance": [],
      "mount_file_id": "1jsK56qbT0sa5I686dMdFJxEHPYfntgCZ",
      "authorship_tag": "ABX9TyMFYb7Uj3XwmIbqIQnn/muy",
      "include_colab_link": true
    },
    "kernelspec": {
      "name": "python3",
      "display_name": "Python 3"
    },
    "language_info": {
      "name": "python"
    }
  },
  "cells": [
    {
      "cell_type": "markdown",
      "metadata": {
        "id": "view-in-github",
        "colab_type": "text"
      },
      "source": [
        "<a href=\"https://colab.research.google.com/github/JorgeSedek/tp2_orga_datos/blob/main/TP2_S30.ipynb\" target=\"_parent\"><img src=\"https://colab.research.google.com/assets/colab-badge.svg\" alt=\"Open In Colab\"/></a>"
      ]
    },
    {
      "cell_type": "code",
      "execution_count": null,
      "metadata": {
        "colab": {
          "base_uri": "https://localhost:8080/"
        },
        "id": "DqJQr26Ul1TX",
        "outputId": "e68060cf-27a5-45a0-f4eb-257263c07d6d"
      },
      "outputs": [
        {
          "output_type": "stream",
          "name": "stdout",
          "text": [
            "Looking in indexes: https://pypi.org/simple, https://us-python.pkg.dev/colab-wheels/public/simple/\n",
            "Requirement already satisfied: pyspark in /usr/local/lib/python3.7/dist-packages (3.3.0)\n",
            "Requirement already satisfied: py4j==0.10.9.5 in /usr/local/lib/python3.7/dist-packages (from pyspark) (0.10.9.5)\n",
            "Hit:1 https://cloud.r-project.org/bin/linux/ubuntu bionic-cran40/ InRelease\n",
            "Ign:2 https://developer.download.nvidia.com/compute/machine-learning/repos/ubuntu1804/x86_64  InRelease\n",
            "Hit:3 https://developer.download.nvidia.com/compute/cuda/repos/ubuntu1804/x86_64  InRelease\n",
            "Hit:4 https://developer.download.nvidia.com/compute/machine-learning/repos/ubuntu1804/x86_64  Release\n",
            "Hit:5 http://archive.ubuntu.com/ubuntu bionic InRelease\n",
            "Get:6 http://archive.ubuntu.com/ubuntu bionic-updates InRelease [88.7 kB]\n",
            "Hit:7 http://ppa.launchpad.net/c2d4u.team/c2d4u4.0+/ubuntu bionic InRelease\n",
            "Get:8 http://security.ubuntu.com/ubuntu bionic-security InRelease [88.7 kB]\n",
            "Get:9 http://archive.ubuntu.com/ubuntu bionic-backports InRelease [83.3 kB]\n",
            "Hit:10 http://ppa.launchpad.net/cran/libgit2/ubuntu bionic InRelease\n",
            "Hit:12 http://ppa.launchpad.net/deadsnakes/ppa/ubuntu bionic InRelease\n",
            "Hit:13 http://ppa.launchpad.net/graphics-drivers/ppa/ubuntu bionic InRelease\n",
            "Fetched 261 kB in 2s (116 kB/s)\n",
            "Reading package lists... Done\n",
            "Building dependency tree       \n",
            "Reading state information... Done\n",
            "22 packages can be upgraded. Run 'apt list --upgradable' to see them.\n",
            "openjdk-8-jdk-headless is already the newest version (8u342-b07-0ubuntu1~18.04).\n",
            "The following package was automatically installed and is no longer required:\n",
            "  libnvidia-common-460\n",
            "Use 'apt autoremove' to remove it.\n",
            "0 upgraded, 0 newly installed, 0 to remove and 22 not upgraded.\n"
          ]
        }
      ],
      "source": [
        "!pip install pyspark\n",
        "!pip install -U -q PyDrive\n",
        "!apt update\n",
        "!apt install openjdk-8-jdk-headless -qq"
      ]
    },
    {
      "cell_type": "code",
      "source": [
        "import os\n",
        "os.environ[\"JAVA_HOME\"] = \"/usr/lib/jvm/java-8-openjdk-amd64\""
      ],
      "metadata": {
        "id": "vtAuWC7smyYz"
      },
      "execution_count": null,
      "outputs": []
    },
    {
      "cell_type": "code",
      "source": [
        "from pydrive.auth import GoogleAuth\n",
        "from pydrive.drive import GoogleDrive\n",
        "from google.colab import auth\n",
        "from oauth2client.client import GoogleCredentials\n",
        "from pyspark.sql import *\n",
        "from pyspark.sql.functions import *\n",
        "from pyspark import SparkContext\n",
        "from pyspark.sql import SQLContext\n",
        "import pandas as pd"
      ],
      "metadata": {
        "id": "-IBC9oEpm3k5"
      },
      "execution_count": null,
      "outputs": []
    },
    {
      "cell_type": "code",
      "source": [
        "auth.authenticate_user()\n",
        "gauth = GoogleAuth()\n",
        "gauth.credentials = GoogleCredentials.get_application_default()\n",
        "drive = GoogleDrive(gauth)"
      ],
      "metadata": {
        "id": "OCRuDdMTm53p"
      },
      "execution_count": null,
      "outputs": []
    },
    {
      "cell_type": "code",
      "source": [
        "spark = SparkSession.builder.getOrCreate()\n",
        "sc = spark.sparkContext"
      ],
      "metadata": {
        "id": "dBAsibHGm8Z6"
      },
      "execution_count": null,
      "outputs": []
    },
    {
      "cell_type": "code",
      "source": [
        "sqlContext = SQLContext(sc)\n",
        "rdd_movies = sqlContext.read.parquet('/content/drive/MyDrive/orgaDatos/Movie dataset/Parquets/movies.parquet').rdd\n",
        "rdd_cast = sqlContext.read.parquet('/content/drive/MyDrive/orgaDatos/Movie dataset/Parquets/cast.parquet').rdd"
      ],
      "metadata": {
        "colab": {
          "base_uri": "https://localhost:8080/"
        },
        "id": "J1-2t5Uupmek",
        "outputId": "f3c91b7d-3fcd-4d61-a2bf-26c45af726c7"
      },
      "execution_count": null,
      "outputs": [
        {
          "output_type": "stream",
          "name": "stderr",
          "text": [
            "/usr/local/lib/python3.7/dist-packages/pyspark/sql/context.py:114: FutureWarning: Deprecated in 3.0.0. Use SparkSession.builder.getOrCreate() instead.\n",
            "  FutureWarning,\n"
          ]
        }
      ]
    },
    {
      "cell_type": "code",
      "source": [
        "rdd_movies.take(1)"
      ],
      "metadata": {
        "colab": {
          "base_uri": "https://localhost:8080/"
        },
        "id": "O7VWbhMLq2LP",
        "outputId": "260bddb6-33a3-4342-e94c-444240e38a96"
      },
      "execution_count": null,
      "outputs": [
        {
          "output_type": "execute_result",
          "data": {
            "text/plain": [
              "[Row(adult='False', belongs_to_collection='Toy Story Collection', budget='30000000', genres='Animation,Comedy,Family', homepage='http://toystory.disney.com/toy-story', id='862', imdb_id='tt0114709', original_language='en', original_title='Toy Story', overview=\"Led by Woody, Andy's toys live happily in his room until Andy's birthday brings Buzz Lightyear onto the scene. Afraid of losing his place in Andy's heart, Woody plots against Buzz. But when circumstances separate Buzz and Woody from their owner, the duo eventually learns to put aside their differences.\", popularity=21.946943, poster_path='/rhIRbceoE9lR4veEXuwCC2wARtG.jpg', production_companies='3', production_countries=\"[{'iso_3166_1': 'US', 'name': 'United States of America'}]\", release_date='1995-10-30', revenue=373554033.0, runtime=81.0, spoken_languages=\"[{'iso_639_1': 'en', 'name': 'English'}]\", status='Released', tagline=None, title='Toy Story', video=False, vote_average=7.7, vote_count=5415.0)]"
            ]
          },
          "metadata": {},
          "execution_count": 71
        }
      ]
    },
    {
      "cell_type": "markdown",
      "source": [
        "filtro los datos que tienen: \\\\\n",
        "1. nans en id y budget.\n",
        "2. budget igual a 0.\n",
        "3. id en forma de fecha.\n"
      ],
      "metadata": {
        "id": "FnC7jGCwpjf0"
      }
    },
    {
      "cell_type": "code",
      "source": [
        "rdd_pelicula_budget = rdd_movies.filter(lambda x: not pd.isnull(x.id) and (not \"-\" in x.id)  and (not pd.isnull(x.budget) and not (x.budget == '0'))).map(lambda x: (int(x.id), int(x.budget)))\n",
        "rdd_pelicula_budget.take(5)"
      ],
      "metadata": {
        "colab": {
          "base_uri": "https://localhost:8080/"
        },
        "id": "E7zQ5j75dTf1",
        "outputId": "4e047e10-3f5e-4fb1-f262-6a99a9c69cf6"
      },
      "execution_count": null,
      "outputs": [
        {
          "output_type": "execute_result",
          "data": {
            "text/plain": [
              "[(862, 30000000),\n",
              " (8844, 65000000),\n",
              " (31357, 16000000),\n",
              " (949, 60000000),\n",
              " (11860, 58000000)]"
            ]
          },
          "metadata": {},
          "execution_count": 113
        }
      ]
    },
    {
      "cell_type": "code",
      "source": [
        "rdd_movies.filter(lambda x:(\"-\" in x.id)).take(1)"
      ],
      "metadata": {
        "colab": {
          "base_uri": "https://localhost:8080/"
        },
        "id": "rMbIUYkcnfMW",
        "outputId": "df1e470e-8692-44d3-feba-33ec2ff29f9a"
      },
      "execution_count": null,
      "outputs": [
        {
          "output_type": "execute_result",
          "data": {
            "text/plain": [
              "[Row(adult=' - Written by Ørnås', belongs_to_collection='0.065736', budget='/ff9qCepilowshEtG2GYWwzt2bs4.jpg', genres=None, homepage=\"[{'iso_3166_1': 'CA', 'name': 'Canada'}, {'iso_3166_1': 'LU', 'name': 'Luxembourg'}, {'iso_3166_1': 'GB', 'name': 'United Kingdom'}, {'iso_3166_1': 'US', 'name': 'United States of America'}]\", id='1997-08-20', imdb_id='0', original_language='104.0', original_title=\"[{'iso_639_1': 'en', 'name': 'English'}]\", overview='Released', popularity=None, poster_path='Midnight Man', production_companies=None, production_countries='6.0', release_date='1', revenue=None, runtime=None, spoken_languages=None, status=None, tagline=None, title=None, video=None, vote_average=None, vote_count=None)]"
            ]
          },
          "metadata": {},
          "execution_count": 114
        }
      ]
    },
    {
      "cell_type": "code",
      "source": [
        "rdd_cast.take(10)"
      ],
      "metadata": {
        "colab": {
          "base_uri": "https://localhost:8080/"
        },
        "id": "P5vePdwmrX1r",
        "outputId": "c3f1182e-6e9c-4a05-e478-c7f7f574b172"
      },
      "execution_count": null,
      "outputs": [
        {
          "output_type": "execute_result",
          "data": {
            "text/plain": [
              "[Row(id=862, cast_id=31, character='Woody (voice)', name='Tom Hanks'),\n",
              " Row(id=862, cast_id=12898, character='Buzz Lightyear (voice)', name='Tim Allen'),\n",
              " Row(id=862, cast_id=7167, character='Mr. Potato Head (voice)', name='Don Rickles'),\n",
              " Row(id=862, cast_id=12899, character='Slinky Dog (voice)', name='Jim Varney'),\n",
              " Row(id=862, cast_id=12900, character='Rex (voice)', name='Wallace Shawn'),\n",
              " Row(id=862, cast_id=7907, character='Hamm (voice)', name='John Ratzenberger'),\n",
              " Row(id=862, cast_id=8873, character='Bo Peep (voice)', name='Annie Potts'),\n",
              " Row(id=862, cast_id=1116442, character='Andy (voice)', name='John Morris'),\n",
              " Row(id=862, cast_id=12901, character='Sid (voice)', name='Erik von Detten'),\n",
              " Row(id=862, cast_id=12133, character='Mrs. Davis (voice)', name='Laurie Metcalf')]"
            ]
          },
          "metadata": {},
          "execution_count": 115
        }
      ]
    },
    {
      "cell_type": "markdown",
      "source": [
        "S30 (). Estimamos el sueldo de un actor como la inversión dividida entre la cantidad de actores. En base a esta estimación, ¿cuál es el actor con el patrimonio más grande?"
      ],
      "metadata": {
        "id": "E4wpbopc7trI"
      }
    },
    {
      "cell_type": "markdown",
      "source": [
        "Tengo que: \\\\\n",
        "- contar cuantos actores hay por id de pelicula. \\\\\n",
        "- dividir el budget por la cantidad de actores. \\\\\n",
        "- Después tengo que sumar ese valor por cada actor."
      ],
      "metadata": {
        "id": "9ThIs4v_xaEk"
      }
    },
    {
      "cell_type": "code",
      "source": [
        "rdd_cast.count()"
      ],
      "metadata": {
        "colab": {
          "base_uri": "https://localhost:8080/"
        },
        "id": "R15UOSk58Eey",
        "outputId": "2901b7de-e6a2-4c1e-847f-50f5411c2363"
      },
      "execution_count": null,
      "outputs": [
        {
          "output_type": "execute_result",
          "data": {
            "text/plain": [
              "562474"
            ]
          },
          "metadata": {},
          "execution_count": 116
        }
      ]
    },
    {
      "cell_type": "code",
      "source": [
        "rdd_cast.take(5)\n",
        "rdd_cast_sin_na = rdd_cast.filter(lambda x: not pd.isnull(x.id) and (not pd.isnull(x.name)))"
      ],
      "metadata": {
        "id": "HZ3mDPd4BDjz"
      },
      "execution_count": null,
      "outputs": []
    },
    {
      "cell_type": "code",
      "source": [
        "pelicula_actor = rdd_cast_sin_na.map(lambda x: (x.id, x.name, 1)).distinct()\n",
        "pelicula_actor.take(5)"
      ],
      "metadata": {
        "colab": {
          "base_uri": "https://localhost:8080/"
        },
        "id": "qzTc1tI5Yfya",
        "outputId": "8420fde8-462d-45c8-fbed-461e94cd3f21"
      },
      "execution_count": null,
      "outputs": [
        {
          "output_type": "execute_result",
          "data": {
            "text/plain": [
              "[(862, 'Tim Allen', 1),\n",
              " (862, 'Jim Varney', 1),\n",
              " (862, 'Wallace Shawn', 1),\n",
              " (862, 'John Ratzenberger', 1),\n",
              " (862, 'Laurie Metcalf', 1)]"
            ]
          },
          "metadata": {},
          "execution_count": 118
        }
      ]
    },
    {
      "cell_type": "code",
      "source": [
        "cantidad_actores = pelicula_actor.map(lambda x: (x[0], x[2])).reduceByKey(lambda a,b: a + b)\n",
        "cantidad_actores.take(5)"
      ],
      "metadata": {
        "colab": {
          "base_uri": "https://localhost:8080/"
        },
        "id": "0cemP7qEZKHQ",
        "outputId": "9a6c74f8-b1ef-4b4b-c876-423b2d2054ef"
      },
      "execution_count": null,
      "outputs": [
        {
          "output_type": "execute_result",
          "data": {
            "text/plain": [
              "[(862, 13), (8844, 26), (15602, 7), (11862, 12), (11860, 57)]"
            ]
          },
          "metadata": {},
          "execution_count": 119
        }
      ]
    },
    {
      "cell_type": "code",
      "source": [
        "budget_actores = rdd_pelicula_budget.join(cantidad_actores)"
      ],
      "metadata": {
        "id": "-liWZPN5c20o"
      },
      "execution_count": null,
      "outputs": []
    },
    {
      "cell_type": "code",
      "source": [
        "rdd_pelicula_budget.take(1000)"
      ],
      "metadata": {
        "id": "o-VJ74t8lXXw"
      },
      "execution_count": null,
      "outputs": []
    },
    {
      "cell_type": "code",
      "source": [
        "cantidad_actores.first()"
      ],
      "metadata": {
        "colab": {
          "base_uri": "https://localhost:8080/"
        },
        "id": "wckYAz7IiTAh",
        "outputId": "8fa47ba8-b37f-4cd8-dd72-ebecedcebf26"
      },
      "execution_count": null,
      "outputs": [
        {
          "output_type": "execute_result",
          "data": {
            "text/plain": [
              "(862, 13)"
            ]
          },
          "metadata": {},
          "execution_count": 122
        }
      ]
    },
    {
      "cell_type": "code",
      "source": [
        "budget_actores.take(5)"
      ],
      "metadata": {
        "colab": {
          "base_uri": "https://localhost:8080/"
        },
        "id": "gJLfUTvzetF_",
        "outputId": "5659af92-94e8-4c3c-bc1c-8abfbad9ee9f"
      },
      "execution_count": null,
      "outputs": [
        {
          "output_type": "execute_result",
          "data": {
            "text/plain": [
              "[(8844, (65000000, 26)),\n",
              " (11860, (58000000, 57)),\n",
              " (1408, (98000000, 31)),\n",
              " (524, (52000000, 45)),\n",
              " (4584, (16500000, 17))]"
            ]
          },
          "metadata": {},
          "execution_count": 124
        }
      ]
    },
    {
      "cell_type": "code",
      "source": [
        "sueldo_pelicula = budget_actores.map(lambda x: (x[0],x[1][0]/x[1][1]))\n",
        "sueldo_pelicula.take(5)"
      ],
      "metadata": {
        "colab": {
          "base_uri": "https://localhost:8080/"
        },
        "id": "OOVO-1ftrY5r",
        "outputId": "05468948-9d50-4e38-d53d-51ff6331f471"
      },
      "execution_count": null,
      "outputs": [
        {
          "output_type": "execute_result",
          "data": {
            "text/plain": [
              "[(8844, 2500000.0),\n",
              " (11860, 1017543.8596491228),\n",
              " (1408, 3161290.3225806453),\n",
              " (524, 1155555.5555555555),\n",
              " (4584, 970588.2352941176)]"
            ]
          },
          "metadata": {},
          "execution_count": 129
        }
      ]
    },
    {
      "cell_type": "code",
      "source": [
        "sueldo_actor = sueldo_pelicula.join(pelicula_actor).map(lambda x: (x[1][1], x[1][0]))\n",
        "sueldo_actor.take(5)"
      ],
      "metadata": {
        "colab": {
          "base_uri": "https://localhost:8080/"
        },
        "id": "DknxOZHzsBmD",
        "outputId": "64475275-233c-4bb0-c884-0eb01a536a66"
      },
      "execution_count": null,
      "outputs": [
        {
          "output_type": "execute_result",
          "data": {
            "text/plain": [
              "[('Robin Williams', 2500000.0),\n",
              " ('Jonathan Hyde', 2500000.0),\n",
              " ('Bebe Neuwirth', 2500000.0),\n",
              " ('David Alan Grier', 2500000.0),\n",
              " ('Adam Hann-Byrd', 2500000.0)]"
            ]
          },
          "metadata": {},
          "execution_count": 131
        }
      ]
    },
    {
      "cell_type": "code",
      "source": [
        "sueldo_actor.reduceByKey(lambda a, b: a + b).takeOrdered(5, key=lambda x: -x[1])"
      ],
      "metadata": {
        "colab": {
          "base_uri": "https://localhost:8080/"
        },
        "id": "jRSem9IytrWC",
        "outputId": "9dc18fdc-86ba-4971-896f-bc37a13d25c2"
      },
      "execution_count": null,
      "outputs": [
        {
          "output_type": "execute_result",
          "data": {
            "text/plain": [
              "[('Samuel L. Jackson', 185869193.80069774),\n",
              " ('Nicolas Cage', 165677863.7127913),\n",
              " ('Bruce Willis', 156451313.26899275),\n",
              " ('Robert De Niro', 138347297.90670684),\n",
              " ('Eddie Murphy', 136250264.16661215)]"
            ]
          },
          "metadata": {},
          "execution_count": 138
        }
      ]
    },
    {
      "cell_type": "markdown",
      "source": [
        "El actor con el patrimonio más grande es Samuel L. Jackson."
      ],
      "metadata": {
        "id": "t5PFgHZmuvws"
      }
    }
  ]
}