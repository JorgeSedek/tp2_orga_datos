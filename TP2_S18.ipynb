{
  "nbformat": 4,
  "nbformat_minor": 0,
  "metadata": {
    "colab": {
      "provenance": [],
      "mount_file_id": "1zHCCYUBaKdgDMPJiIun6UnsytsT17V2n",
      "authorship_tag": "ABX9TyMRneoWu1Iv7gCZwqYjr20I",
      "include_colab_link": true
    },
    "kernelspec": {
      "name": "python3",
      "display_name": "Python 3"
    },
    "language_info": {
      "name": "python"
    }
  },
  "cells": [
    {
      "cell_type": "markdown",
      "metadata": {
        "id": "view-in-github",
        "colab_type": "text"
      },
      "source": [
        "<a href=\"https://colab.research.google.com/github/JorgeSedek/tp2_orga_datos/blob/main/TP2_S18.ipynb\" target=\"_parent\"><img src=\"https://colab.research.google.com/assets/colab-badge.svg\" alt=\"Open In Colab\"/></a>"
      ]
    },
    {
      "cell_type": "code",
      "execution_count": null,
      "metadata": {
        "id": "X7pSUNDrEwCa",
        "colab": {
          "base_uri": "https://localhost:8080/"
        },
        "outputId": "29917f66-ec9f-4087-a1af-60b6369f18df"
      },
      "outputs": [
        {
          "output_type": "stream",
          "name": "stdout",
          "text": [
            "Looking in indexes: https://pypi.org/simple, https://us-python.pkg.dev/colab-wheels/public/simple/\n",
            "Collecting pyspark\n",
            "  Downloading pyspark-3.3.0.tar.gz (281.3 MB)\n",
            "\u001b[K     |████████████████████████████████| 281.3 MB 46 kB/s \n",
            "\u001b[?25hCollecting py4j==0.10.9.5\n",
            "  Downloading py4j-0.10.9.5-py2.py3-none-any.whl (199 kB)\n",
            "\u001b[K     |████████████████████████████████| 199 kB 50.9 MB/s \n",
            "\u001b[?25hBuilding wheels for collected packages: pyspark\n",
            "  Building wheel for pyspark (setup.py) ... \u001b[?25l\u001b[?25hdone\n",
            "  Created wheel for pyspark: filename=pyspark-3.3.0-py2.py3-none-any.whl size=281764026 sha256=94c0b7e8d9780bd2a432464def4957306a44a91019c3c60942fa42a6f2d85e8a\n",
            "  Stored in directory: /root/.cache/pip/wheels/7a/8e/1b/f73a52650d2e5f337708d9f6a1750d451a7349a867f928b885\n",
            "Successfully built pyspark\n",
            "Installing collected packages: py4j, pyspark\n",
            "Successfully installed py4j-0.10.9.5 pyspark-3.3.0\n",
            "Get:1 https://cloud.r-project.org/bin/linux/ubuntu bionic-cran40/ InRelease [3,626 B]\n",
            "Get:2 http://security.ubuntu.com/ubuntu bionic-security InRelease [88.7 kB]\n",
            "Get:3 http://ppa.launchpad.net/c2d4u.team/c2d4u4.0+/ubuntu bionic InRelease [15.9 kB]\n",
            "Ign:4 https://developer.download.nvidia.com/compute/machine-learning/repos/ubuntu1804/x86_64  InRelease\n",
            "Hit:5 https://developer.download.nvidia.com/compute/cuda/repos/ubuntu1804/x86_64  InRelease\n",
            "Hit:6 https://developer.download.nvidia.com/compute/machine-learning/repos/ubuntu1804/x86_64  Release\n",
            "Hit:7 http://archive.ubuntu.com/ubuntu bionic InRelease\n",
            "Get:8 http://archive.ubuntu.com/ubuntu bionic-updates InRelease [88.7 kB]\n",
            "Hit:9 http://ppa.launchpad.net/cran/libgit2/ubuntu bionic InRelease\n",
            "Get:10 http://archive.ubuntu.com/ubuntu bionic-backports InRelease [83.3 kB]\n",
            "Get:11 http://ppa.launchpad.net/deadsnakes/ppa/ubuntu bionic InRelease [15.9 kB]\n",
            "Hit:13 http://ppa.launchpad.net/graphics-drivers/ppa/ubuntu bionic InRelease\n",
            "Get:14 http://ppa.launchpad.net/c2d4u.team/c2d4u4.0+/ubuntu bionic/main Sources [2,164 kB]\n",
            "Get:15 http://security.ubuntu.com/ubuntu bionic-security/restricted amd64 Packages [1,187 kB]\n",
            "Get:16 http://archive.ubuntu.com/ubuntu bionic-updates/main amd64 Packages [3,452 kB]\n",
            "Get:17 http://security.ubuntu.com/ubuntu bionic-security/universe amd64 Packages [1,551 kB]\n",
            "Get:18 http://security.ubuntu.com/ubuntu bionic-security/main amd64 Packages [3,018 kB]\n",
            "Get:19 http://archive.ubuntu.com/ubuntu bionic-updates/restricted amd64 Packages [1,230 kB]\n",
            "Get:20 http://ppa.launchpad.net/c2d4u.team/c2d4u4.0+/ubuntu bionic/main amd64 Packages [1,109 kB]\n",
            "Get:21 http://archive.ubuntu.com/ubuntu bionic-updates/universe amd64 Packages [2,329 kB]\n",
            "Get:22 http://ppa.launchpad.net/deadsnakes/ppa/ubuntu bionic/main amd64 Packages [45.3 kB]\n",
            "Fetched 16.4 MB in 4s (4,439 kB/s)\n",
            "Reading package lists... Done\n",
            "Building dependency tree       \n",
            "Reading state information... Done\n",
            "40 packages can be upgraded. Run 'apt list --upgradable' to see them.\n",
            "The following package was automatically installed and is no longer required:\n",
            "  libnvidia-common-460\n",
            "Use 'apt autoremove' to remove it.\n",
            "The following additional packages will be installed:\n",
            "  openjdk-8-jre-headless\n",
            "Suggested packages:\n",
            "  openjdk-8-demo openjdk-8-source libnss-mdns fonts-dejavu-extra\n",
            "  fonts-ipafont-gothic fonts-ipafont-mincho fonts-wqy-microhei\n",
            "  fonts-wqy-zenhei fonts-indic\n",
            "The following NEW packages will be installed:\n",
            "  openjdk-8-jdk-headless openjdk-8-jre-headless\n",
            "0 upgraded, 2 newly installed, 0 to remove and 40 not upgraded.\n",
            "Need to get 36.6 MB of archives.\n",
            "After this operation, 143 MB of additional disk space will be used.\n",
            "Selecting previously unselected package openjdk-8-jre-headless:amd64.\n",
            "(Reading database ... 123934 files and directories currently installed.)\n",
            "Preparing to unpack .../openjdk-8-jre-headless_8u342-b07-0ubuntu1~18.04_amd64.deb ...\n",
            "Unpacking openjdk-8-jre-headless:amd64 (8u342-b07-0ubuntu1~18.04) ...\n",
            "Selecting previously unselected package openjdk-8-jdk-headless:amd64.\n",
            "Preparing to unpack .../openjdk-8-jdk-headless_8u342-b07-0ubuntu1~18.04_amd64.deb ...\n",
            "Unpacking openjdk-8-jdk-headless:amd64 (8u342-b07-0ubuntu1~18.04) ...\n",
            "Setting up openjdk-8-jre-headless:amd64 (8u342-b07-0ubuntu1~18.04) ...\n",
            "update-alternatives: using /usr/lib/jvm/java-8-openjdk-amd64/jre/bin/orbd to provide /usr/bin/orbd (orbd) in auto mode\n",
            "update-alternatives: using /usr/lib/jvm/java-8-openjdk-amd64/jre/bin/servertool to provide /usr/bin/servertool (servertool) in auto mode\n",
            "update-alternatives: using /usr/lib/jvm/java-8-openjdk-amd64/jre/bin/tnameserv to provide /usr/bin/tnameserv (tnameserv) in auto mode\n",
            "Setting up openjdk-8-jdk-headless:amd64 (8u342-b07-0ubuntu1~18.04) ...\n",
            "update-alternatives: using /usr/lib/jvm/java-8-openjdk-amd64/bin/idlj to provide /usr/bin/idlj (idlj) in auto mode\n",
            "update-alternatives: using /usr/lib/jvm/java-8-openjdk-amd64/bin/wsimport to provide /usr/bin/wsimport (wsimport) in auto mode\n",
            "update-alternatives: using /usr/lib/jvm/java-8-openjdk-amd64/bin/jsadebugd to provide /usr/bin/jsadebugd (jsadebugd) in auto mode\n",
            "update-alternatives: using /usr/lib/jvm/java-8-openjdk-amd64/bin/native2ascii to provide /usr/bin/native2ascii (native2ascii) in auto mode\n",
            "update-alternatives: using /usr/lib/jvm/java-8-openjdk-amd64/bin/javah to provide /usr/bin/javah (javah) in auto mode\n",
            "update-alternatives: using /usr/lib/jvm/java-8-openjdk-amd64/bin/clhsdb to provide /usr/bin/clhsdb (clhsdb) in auto mode\n",
            "update-alternatives: using /usr/lib/jvm/java-8-openjdk-amd64/bin/xjc to provide /usr/bin/xjc (xjc) in auto mode\n",
            "update-alternatives: using /usr/lib/jvm/java-8-openjdk-amd64/bin/hsdb to provide /usr/bin/hsdb (hsdb) in auto mode\n",
            "update-alternatives: using /usr/lib/jvm/java-8-openjdk-amd64/bin/schemagen to provide /usr/bin/schemagen (schemagen) in auto mode\n",
            "update-alternatives: using /usr/lib/jvm/java-8-openjdk-amd64/bin/extcheck to provide /usr/bin/extcheck (extcheck) in auto mode\n",
            "update-alternatives: using /usr/lib/jvm/java-8-openjdk-amd64/bin/jhat to provide /usr/bin/jhat (jhat) in auto mode\n",
            "update-alternatives: using /usr/lib/jvm/java-8-openjdk-amd64/bin/wsgen to provide /usr/bin/wsgen (wsgen) in auto mode\n"
          ]
        }
      ],
      "source": [
        "!pip install pyspark\n",
        "!pip install -U -q PyDrive\n",
        "!apt update\n",
        "!apt install openjdk-8-jdk-headless -qq"
      ]
    },
    {
      "cell_type": "code",
      "source": [
        "import os\n",
        "os.environ[\"JAVA_HOME\"] = \"/usr/lib/jvm/java-8-openjdk-amd64\""
      ],
      "metadata": {
        "id": "tA9c5yoiGHxz"
      },
      "execution_count": null,
      "outputs": []
    },
    {
      "cell_type": "code",
      "source": [
        "from pydrive.auth import GoogleAuth\n",
        "from pydrive.drive import GoogleDrive\n",
        "from google.colab import auth\n",
        "from oauth2client.client import GoogleCredentials\n",
        "from pyspark.sql import *\n",
        "from pyspark.sql.functions import *\n",
        "from pyspark import SparkContext\n",
        "from pyspark.sql import SQLContext\n",
        "import pandas as pd"
      ],
      "metadata": {
        "id": "uinlCZUNGMSU"
      },
      "execution_count": null,
      "outputs": []
    },
    {
      "cell_type": "code",
      "source": [
        "auth.authenticate_user()\n",
        "gauth = GoogleAuth()\n",
        "gauth.credentials = GoogleCredentials.get_application_default()\n",
        "drive = GoogleDrive(gauth)"
      ],
      "metadata": {
        "id": "LafI9SlDGP4z"
      },
      "execution_count": null,
      "outputs": []
    },
    {
      "cell_type": "code",
      "source": [
        "spark = SparkSession.builder.getOrCreate()\n",
        "sc = spark.sparkContext"
      ],
      "metadata": {
        "id": "7XjTSvbKGR38"
      },
      "execution_count": null,
      "outputs": []
    },
    {
      "cell_type": "code",
      "source": [
        "sqlContext = SQLContext(sc)\n",
        "rdd_movies = sqlContext.read.parquet('/content/drive/MyDrive/orgaDatos/Movie dataset/Parquets/movies.parquet').rdd\n",
        "rdd_keywords = sqlContext.read.parquet('/content/drive/MyDrive/orgaDatos/Movie dataset/Parquets/keywords.parquet').rdd"
      ],
      "metadata": {
        "id": "fDlVj9sTGUH7",
        "colab": {
          "base_uri": "https://localhost:8080/"
        },
        "outputId": "de7a1294-2369-4ed2-d58e-2b234d87b55f"
      },
      "execution_count": null,
      "outputs": [
        {
          "output_type": "stream",
          "name": "stderr",
          "text": [
            "/usr/local/lib/python3.7/dist-packages/pyspark/sql/context.py:114: FutureWarning: Deprecated in 3.0.0. Use SparkSession.builder.getOrCreate() instead.\n",
            "  FutureWarning,\n"
          ]
        }
      ]
    },
    {
      "cell_type": "markdown",
      "source": [
        "S18 (). ¿Cuál es el género con más películas cada década? ¿Y la keyword para cada década?"
      ],
      "metadata": {
        "id": "K1nJ-yHPGVMg"
      }
    },
    {
      "cell_type": "code",
      "source": [
        "rdd_keywords.take(5)"
      ],
      "metadata": {
        "colab": {
          "base_uri": "https://localhost:8080/"
        },
        "id": "MeDJ7ghcjrko",
        "outputId": "2a8961e1-0587-4e8a-dd71-6c6272241750"
      },
      "execution_count": null,
      "outputs": [
        {
          "output_type": "execute_result",
          "data": {
            "text/plain": [
              "[Row(id=862, keywords='jealousy,toy,boy,friendship,friends,rivalry,boy next door,new toy,toy comes to life'),\n",
              " Row(id=8844, keywords=\"board game,disappearance,based on children's book,new home,recluse,giant insect\"),\n",
              " Row(id=15602, keywords='fishing,best friend,duringcreditsstinger,old men'),\n",
              " Row(id=31357, keywords='based on novel,interracial relationship,single mother,divorce,chick flick'),\n",
              " Row(id=11862, keywords='baby,midlife crisis,confidence,aging,daughter,mother daughter relationship,pregnancy,contraception,gynecologist')]"
            ]
          },
          "metadata": {},
          "execution_count": 7
        }
      ]
    },
    {
      "cell_type": "code",
      "source": [
        "rdd_movies.first()"
      ],
      "metadata": {
        "id": "6j-LKCjBGXj2",
        "colab": {
          "base_uri": "https://localhost:8080/"
        },
        "outputId": "a66d28d1-7474-4695-eb09-0e375cd72b9f"
      },
      "execution_count": null,
      "outputs": [
        {
          "output_type": "execute_result",
          "data": {
            "text/plain": [
              "Row(adult='False', belongs_to_collection='Toy Story Collection', budget='30000000', genres='Animation,Comedy,Family', homepage='http://toystory.disney.com/toy-story', id='862', imdb_id='tt0114709', original_language='en', original_title='Toy Story', overview=\"Led by Woody, Andy's toys live happily in his room until Andy's birthday brings Buzz Lightyear onto the scene. Afraid of losing his place in Andy's heart, Woody plots against Buzz. But when circumstances separate Buzz and Woody from their owner, the duo eventually learns to put aside their differences.\", popularity=21.946943, poster_path='/rhIRbceoE9lR4veEXuwCC2wARtG.jpg', production_companies='3', production_countries=\"[{'iso_3166_1': 'US', 'name': 'United States of America'}]\", release_date='1995-10-30', revenue=373554033.0, runtime=81.0, spoken_languages=\"[{'iso_639_1': 'en', 'name': 'English'}]\", status='Released', tagline=None, title='Toy Story', video=False, vote_average=7.7, vote_count=5415.0)"
            ]
          },
          "metadata": {},
          "execution_count": 8
        }
      ]
    },
    {
      "cell_type": "code",
      "source": [
        "rdd_filtrado = rdd_movies.filter(lambda x: not pd.isnull(x.genres) and (not pd.isnull(x.release_date)))"
      ],
      "metadata": {
        "id": "dPQRrRyQv1bC"
      },
      "execution_count": null,
      "outputs": []
    },
    {
      "cell_type": "code",
      "source": [
        "tabla_prueba = rdd_filtrado.map(lambda x: (x.id,x.genres,x.release_date))"
      ],
      "metadata": {
        "id": "u5ErzmO4enmg"
      },
      "execution_count": null,
      "outputs": []
    },
    {
      "cell_type": "code",
      "source": [
        "tabla_prueba2 = tabla_prueba.map(lambda x: (x[0], x[1].split(\",\"), x[2].split(\"-\")[0][:-1] + '0'))\n",
        "tabla_prueba2.take(5)"
      ],
      "metadata": {
        "colab": {
          "base_uri": "https://localhost:8080/"
        },
        "id": "xGTboVh7clky",
        "outputId": "bc4fe56f-dcba-4ece-e565-0b651172c8f9"
      },
      "execution_count": null,
      "outputs": [
        {
          "output_type": "execute_result",
          "data": {
            "text/plain": [
              "[('862', ['Animation', 'Comedy', 'Family'], '1990'),\n",
              " ('8844', ['Adventure', 'Fantasy', 'Family'], '1990'),\n",
              " ('15602', ['Romance', 'Comedy'], '1990'),\n",
              " ('31357', ['Comedy', 'Drama', 'Romance'], '1990'),\n",
              " ('11862', ['Comedy'], '1990')]"
            ]
          },
          "metadata": {},
          "execution_count": 11
        }
      ]
    },
    {
      "cell_type": "code",
      "source": [
        "tabla_prueba3 = tabla_prueba2.flatMap(lambda x:  (((x[2], x[1][i]), 1) for i in range(len(x[1]))))\n",
        "tabla_prueba3.take(5)"
      ],
      "metadata": {
        "colab": {
          "base_uri": "https://localhost:8080/"
        },
        "id": "tm1fn5iek3bo",
        "outputId": "312448ac-76cf-47a1-ffe2-95c93f4ccde4"
      },
      "execution_count": null,
      "outputs": [
        {
          "output_type": "execute_result",
          "data": {
            "text/plain": [
              "[(('1990', 'Animation'), 1),\n",
              " (('1990', 'Comedy'), 1),\n",
              " (('1990', 'Family'), 1),\n",
              " (('1990', 'Adventure'), 1),\n",
              " (('1990', 'Fantasy'), 1)]"
            ]
          },
          "metadata": {},
          "execution_count": 12
        }
      ]
    },
    {
      "cell_type": "code",
      "source": [
        "tabla_prueba4 = tabla_prueba3.filter(lambda x: not pd.isnull(x[0]))\n",
        "tabla_prueba5 = tabla_prueba4.reduceByKey(lambda a,b: a+b)\n",
        "tabla_prueba5.take(10)"
      ],
      "metadata": {
        "colab": {
          "base_uri": "https://localhost:8080/"
        },
        "id": "qtAc3webk8op",
        "outputId": "6092e707-72a9-49ac-e1fe-3952e8788fed"
      },
      "execution_count": null,
      "outputs": [
        {
          "output_type": "execute_result",
          "data": {
            "text/plain": [
              "[(('1990', 'Family'), 485),\n",
              " (('1990', 'Fantasy'), 362),\n",
              " (('1990', 'Romance'), 995),\n",
              " (('1990', 'Drama'), 2613),\n",
              " (('1990', 'Action'), 995),\n",
              " (('1990', 'Thriller'), 1049),\n",
              " (('1990', 'Horror'), 465),\n",
              " (('1990', 'Science Fiction'), 482),\n",
              " (('1990', 'Documentary'), 292),\n",
              " (('1970', 'Drama'), 1508)]"
            ]
          },
          "metadata": {},
          "execution_count": 13
        }
      ]
    },
    {
      "cell_type": "code",
      "source": [
        "tabla_prueba6 = tabla_prueba5.map(lambda x: (x[0][0], (x[0][1], x[1])))\n",
        "tabla_prueba6.take(5)"
      ],
      "metadata": {
        "colab": {
          "base_uri": "https://localhost:8080/"
        },
        "id": "Gs8sxWB426bs",
        "outputId": "26c24f95-5218-4c0b-c677-48de5c6c8bc3"
      },
      "execution_count": null,
      "outputs": [
        {
          "output_type": "execute_result",
          "data": {
            "text/plain": [
              "[('1990', ('Family', 485)),\n",
              " ('1990', ('Fantasy', 362)),\n",
              " ('1990', ('Romance', 995)),\n",
              " ('1990', ('Drama', 2613)),\n",
              " ('1990', ('Action', 995))]"
            ]
          },
          "metadata": {},
          "execution_count": 14
        }
      ]
    },
    {
      "cell_type": "code",
      "source": [
        "tabla_prueba7 = tabla_prueba6.reduceByKey(lambda a,b: a if a[1] > b[1] else b)\n",
        "tabla_prueba7.takeOrdered(1000, key=lambda x: x[0])                                                                                        "
      ],
      "metadata": {
        "colab": {
          "base_uri": "https://localhost:8080/"
        },
        "id": "LCjSyv_i30iO",
        "outputId": "b1f39a9f-3e36-4d4a-fef1-bdd3963af57c"
      },
      "execution_count": null,
      "outputs": [
        {
          "output_type": "execute_result",
          "data": {
            "text/plain": [
              "[('1870', ('Documentary', 2)),\n",
              " ('1880', ('Documentary', 4)),\n",
              " ('1890', ('Documentary', 28)),\n",
              " ('1900', ('Fantasy', 30)),\n",
              " ('1910', ('Drama', 81)),\n",
              " ('1920', ('Drama', 257)),\n",
              " ('1930', ('Drama', 707)),\n",
              " ('1940', ('Drama', 781)),\n",
              " ('1950', ('Drama', 1065)),\n",
              " ('1960', ('Drama', 1212)),\n",
              " ('1970', ('Drama', 1508)),\n",
              " ('1980', ('Drama', 1553)),\n",
              " ('1990', ('Drama', 2613)),\n",
              " ('2000', ('Drama', 5282)),\n",
              " ('2010', ('Drama', 5183)),\n",
              " ('2020', ('Adventure', 1))]"
            ]
          },
          "metadata": {},
          "execution_count": 15
        }
      ]
    },
    {
      "cell_type": "code",
      "source": [
        "tabla_prueba7.map(lambda x: (x[0], x[1][0])).collect()"
      ],
      "metadata": {
        "colab": {
          "base_uri": "https://localhost:8080/"
        },
        "id": "9zWB1OBn5XUr",
        "outputId": "f06a5551-1cba-403a-b840-492025cdd839"
      },
      "execution_count": null,
      "outputs": [
        {
          "output_type": "execute_result",
          "data": {
            "text/plain": [
              "[('1990', 'Drama'),\n",
              " ('1970', 'Drama'),\n",
              " ('1980', 'Drama'),\n",
              " ('1940', 'Drama'),\n",
              " ('2010', 'Drama'),\n",
              " ('1920', 'Drama'),\n",
              " ('1890', 'Documentary'),\n",
              " ('2020', 'Adventure'),\n",
              " ('1880', 'Documentary'),\n",
              " ('1960', 'Drama'),\n",
              " ('1930', 'Drama'),\n",
              " ('2000', 'Drama'),\n",
              " ('1950', 'Drama'),\n",
              " ('1910', 'Drama'),\n",
              " ('1900', 'Fantasy'),\n",
              " ('1870', 'Documentary')]"
            ]
          },
          "metadata": {},
          "execution_count": 16
        }
      ]
    },
    {
      "cell_type": "markdown",
      "source": [
        "¿Y la keyword para cada década?"
      ],
      "metadata": {
        "id": "fEKjMkkhz2n-"
      }
    },
    {
      "cell_type": "code",
      "source": [
        "rdd_keywords.take(5)"
      ],
      "metadata": {
        "colab": {
          "base_uri": "https://localhost:8080/"
        },
        "id": "l-_LgijBz35W",
        "outputId": "294b5878-e94a-4fe9-9070-465a89423747"
      },
      "execution_count": null,
      "outputs": [
        {
          "output_type": "execute_result",
          "data": {
            "text/plain": [
              "[Row(id=862, keywords='jealousy,toy,boy,friendship,friends,rivalry,boy next door,new toy,toy comes to life'),\n",
              " Row(id=8844, keywords=\"board game,disappearance,based on children's book,new home,recluse,giant insect\"),\n",
              " Row(id=15602, keywords='fishing,best friend,duringcreditsstinger,old men'),\n",
              " Row(id=31357, keywords='based on novel,interracial relationship,single mother,divorce,chick flick'),\n",
              " Row(id=11862, keywords='baby,midlife crisis,confidence,aging,daughter,mother daughter relationship,pregnancy,contraception,gynecologist')]"
            ]
          },
          "metadata": {},
          "execution_count": 62
        }
      ]
    },
    {
      "cell_type": "code",
      "source": [
        "rdd_keywords2 = rdd_keywords.filter(lambda x: not pd.isnull(x.id) and (not pd.isnull(x.keywords)))"
      ],
      "metadata": {
        "id": "JuGmdMJY3neZ"
      },
      "execution_count": null,
      "outputs": []
    },
    {
      "cell_type": "code",
      "source": [
        "rdd_keywords2.first()"
      ],
      "metadata": {
        "colab": {
          "base_uri": "https://localhost:8080/"
        },
        "id": "BebyPzv-4Q5N",
        "outputId": "fb54c2fd-ee81-4d5b-a2f2-cdcb56fd67fa"
      },
      "execution_count": null,
      "outputs": [
        {
          "output_type": "execute_result",
          "data": {
            "text/plain": [
              "Row(id=862, keywords='jealousy,toy,boy,friendship,friends,rivalry,boy next door,new toy,toy comes to life')"
            ]
          },
          "metadata": {},
          "execution_count": 65
        }
      ]
    },
    {
      "cell_type": "code",
      "source": [
        "rdd_keywords3 = rdd_keywords2.map(lambda x: (x[0], x[1].replace(\",\",\" \").split()))"
      ],
      "metadata": {
        "id": "aTcnSC220ApM"
      },
      "execution_count": null,
      "outputs": []
    },
    {
      "cell_type": "code",
      "source": [
        "rdd_keywords3.first()"
      ],
      "metadata": {
        "colab": {
          "base_uri": "https://localhost:8080/"
        },
        "id": "t_lAzpXA2emZ",
        "outputId": "353fa9ae-a0e6-421e-b094-77e87fefe616"
      },
      "execution_count": null,
      "outputs": [
        {
          "output_type": "execute_result",
          "data": {
            "text/plain": [
              "(862,\n",
              " ['jealousy',\n",
              "  'toy',\n",
              "  'boy',\n",
              "  'friendship',\n",
              "  'friends',\n",
              "  'rivalry',\n",
              "  'boy',\n",
              "  'next',\n",
              "  'door',\n",
              "  'new',\n",
              "  'toy',\n",
              "  'toy',\n",
              "  'comes',\n",
              "  'to',\n",
              "  'life'])"
            ]
          },
          "metadata": {},
          "execution_count": 67
        }
      ]
    },
    {
      "cell_type": "code",
      "source": [
        "rdd_filtrado_fecha = rdd_movies.filter(lambda x: not pd.isnull(x.release_date) and (not \"-\" in x.id))"
      ],
      "metadata": {
        "id": "p-T_-TXn1YQ4"
      },
      "execution_count": null,
      "outputs": []
    },
    {
      "cell_type": "code",
      "source": [
        "rdd_decada = rdd_filtrado_fecha.map(lambda x: (int(x.id),x.release_date)).map(lambda x: (x[0], x[1].split(\"-\")[0][:-1] + '0'))"
      ],
      "metadata": {
        "id": "2J0Q22NW1kQ1"
      },
      "execution_count": null,
      "outputs": []
    },
    {
      "cell_type": "code",
      "source": [
        "rdd_fecha_keyword = rdd_keywords3.join(rdd_decada)"
      ],
      "metadata": {
        "id": "oSgmQQMI2Ffh"
      },
      "execution_count": null,
      "outputs": []
    },
    {
      "cell_type": "code",
      "source": [
        "rdd_fecha_keyword2 = rdd_fecha_keyword.map(lambda x: (x[1][1], x[1][0]))"
      ],
      "metadata": {
        "id": "8TQhdsnF5_7W"
      },
      "execution_count": null,
      "outputs": []
    },
    {
      "cell_type": "code",
      "source": [
        "rdd_decada_keyword = rdd_fecha_keyword2.reduceByKey(lambda a, b: a + b)"
      ],
      "metadata": {
        "id": "kabiPHdE8BKR"
      },
      "execution_count": null,
      "outputs": []
    },
    {
      "cell_type": "code",
      "source": [
        "import collections"
      ],
      "metadata": {
        "id": "kPHwZ04g8HAZ"
      },
      "execution_count": null,
      "outputs": []
    },
    {
      "cell_type": "code",
      "source": [
        "rdd_decada_keyword.map(lambda x: (x[0], sorted(collections.Counter(x[1]) , key=collections.Counter(x[1]).get, reverse=True)[0])).collect()"
      ],
      "metadata": {
        "colab": {
          "base_uri": "https://localhost:8080/"
        },
        "id": "iVDMO2Gd9Qfl",
        "outputId": "13c6ce48-48f7-4e39-8d52-d69c6f3cdbdd"
      },
      "execution_count": null,
      "outputs": [
        {
          "output_type": "execute_result",
          "data": {
            "text/plain": [
              "[('1980', 'nudity'),\n",
              " ('1920', 'film'),\n",
              " ('1970', 'nudity'),\n",
              " ('1910', 'film'),\n",
              " ('1870', 'silent'),\n",
              " ('1990', 'film'),\n",
              " ('1950', 'film'),\n",
              " ('2010', 'woman'),\n",
              " ('1900', 'film'),\n",
              " ('2020', 'sequel'),\n",
              " ('1960', 'film'),\n",
              " ('1930', 'musical'),\n",
              " ('1940', 'noir'),\n",
              " ('2000', 'film'),\n",
              " ('1890', 'film'),\n",
              " ('1880', 'short')]"
            ]
          },
          "metadata": {},
          "execution_count": 106
        }
      ]
    }
  ]
}